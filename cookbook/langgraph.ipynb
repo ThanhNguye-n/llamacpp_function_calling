{
 "cells": [
  {
   "cell_type": "code",
   "execution_count": 25,
   "metadata": {},
   "outputs": [],
   "source": [
    "# Import things that are needed generically\n",
    "from langchain.pydantic_v1 import BaseModel, Field\n",
    "from langchain.tools import BaseTool, StructuredTool, tool\n",
    "from langchain_community.tools.tavily_search import TavilySearchResults\n",
    "from langgraph.prebuilt import ToolNode\n",
    "# from langchain_openai.chat_models.base import _convert_message_to_dict\n",
    "from langchain_core.messages import SystemMessage\n",
    "from typing import Optional\n",
    "\n",
    "class SearchInput(BaseModel):\n",
    "    query: str = Field(description=\"a detailed sentence for efficient search\")\n",
    "\n",
    "class WeatherInput(BaseModel):\n",
    "    location: str = Field(description=\"The city and state, e.g. San Francisco, CA\")\n",
    "    unit: str = Field(enum=[\"celsius\", \"fahrenheit\"])\n",
    "\n",
    "@tool(\"search_online\", args_schema=SearchInput)\n",
    "def search(query: str):\n",
    "    \"\"\"An online search tool to retrieve the most accurate and up-to-date, lastest information available.\"\"\"\n",
    "\n",
    "    tool = TavilySearchResults(max_results=2)\n",
    "    results = tool.invoke(query) \n",
    "    content = '\\n\\n'.join([f\"{index+1}. {i['content']}\" for index, i in enumerate(results)])\n",
    "\n",
    "    return content\n",
    "\n",
    "@tool(\"get_current_weather\", args_schema=WeatherInput)\n",
    "def get_weather(location: str, unit:str):\n",
    "    \"\"\"This function retrieves the latest weather information for a specified location. \"\"\"\n",
    "\n",
    "    return f\"Now the weather in {location} is 22 {unit}\""
   ]
  },
  {
   "cell_type": "code",
   "execution_count": 26,
   "metadata": {},
   "outputs": [],
   "source": [
    "from langgraph.prebuilt import ToolExecutor\n",
    "\n",
    "tool_executor = ToolExecutor([search, get_weather])"
   ]
  },
  {
   "cell_type": "code",
   "execution_count": 27,
   "metadata": {},
   "outputs": [
    {
     "name": "stderr",
     "output_type": "stream",
     "text": [
      "llama_model_loader: loaded meta data with 23 key-value pairs and 291 tensors from /Users/thanhnguyen/Documents/Developer/llamacpp_function_calling/models/Hermes-2-Pro-Llama-3-8B-Q8_0.gguf (version GGUF V3 (latest))\n",
      "llama_model_loader: Dumping metadata keys/values. Note: KV overrides do not apply in this output.\n",
      "llama_model_loader: - kv   0:                       general.architecture str              = llama\n",
      "llama_model_loader: - kv   1:                               general.name str              = Hermes-2-Pro-Llama-3-8B\n",
      "llama_model_loader: - kv   2:                          llama.block_count u32              = 32\n",
      "llama_model_loader: - kv   3:                       llama.context_length u32              = 8192\n",
      "llama_model_loader: - kv   4:                     llama.embedding_length u32              = 4096\n",
      "llama_model_loader: - kv   5:                  llama.feed_forward_length u32              = 14336\n",
      "llama_model_loader: - kv   6:                 llama.attention.head_count u32              = 32\n",
      "llama_model_loader: - kv   7:              llama.attention.head_count_kv u32              = 8\n",
      "llama_model_loader: - kv   8:                       llama.rope.freq_base f32              = 500000.000000\n",
      "llama_model_loader: - kv   9:     llama.attention.layer_norm_rms_epsilon f32              = 0.000010\n",
      "llama_model_loader: - kv  10:                          general.file_type u32              = 7\n",
      "llama_model_loader: - kv  11:                           llama.vocab_size u32              = 128288\n",
      "llama_model_loader: - kv  12:                 llama.rope.dimension_count u32              = 128\n",
      "llama_model_loader: - kv  13:                       tokenizer.ggml.model str              = gpt2\n",
      "llama_model_loader: - kv  14:                         tokenizer.ggml.pre str              = llama-bpe\n",
      "llama_model_loader: - kv  15:                      tokenizer.ggml.tokens arr[str,128288]  = [\"!\", \"\\\"\", \"#\", \"$\", \"%\", \"&\", \"'\", ...\n",
      "llama_model_loader: - kv  16:                  tokenizer.ggml.token_type arr[i32,128288]  = [1, 1, 1, 1, 1, 1, 1, 1, 1, 1, 1, 1, ...\n",
      "llama_model_loader: - kv  17:                      tokenizer.ggml.merges arr[str,280147]  = [\"Ġ Ġ\", \"Ġ ĠĠĠ\", \"ĠĠ ĠĠ\", \"...\n",
      "llama_model_loader: - kv  18:                tokenizer.ggml.bos_token_id u32              = 128000\n",
      "llama_model_loader: - kv  19:                tokenizer.ggml.eos_token_id u32              = 128003\n",
      "llama_model_loader: - kv  20:            tokenizer.ggml.padding_token_id u32              = 128001\n",
      "llama_model_loader: - kv  21:                    tokenizer.chat_template str              = {{bos_token}}{% for message in messag...\n",
      "llama_model_loader: - kv  22:               general.quantization_version u32              = 2\n",
      "llama_model_loader: - type  f32:   65 tensors\n",
      "llama_model_loader: - type q8_0:  226 tensors\n",
      "llm_load_vocab: special tokens cache size = 288\n",
      "llm_load_vocab: token to piece cache size = 0.8007 MB\n",
      "llm_load_print_meta: format           = GGUF V3 (latest)\n",
      "llm_load_print_meta: arch             = llama\n",
      "llm_load_print_meta: vocab type       = BPE\n",
      "llm_load_print_meta: n_vocab          = 128288\n",
      "llm_load_print_meta: n_merges         = 280147\n",
      "llm_load_print_meta: n_ctx_train      = 8192\n",
      "llm_load_print_meta: n_embd           = 4096\n",
      "llm_load_print_meta: n_head           = 32\n",
      "llm_load_print_meta: n_head_kv        = 8\n",
      "llm_load_print_meta: n_layer          = 32\n",
      "llm_load_print_meta: n_rot            = 128\n",
      "llm_load_print_meta: n_embd_head_k    = 128\n",
      "llm_load_print_meta: n_embd_head_v    = 128\n",
      "llm_load_print_meta: n_gqa            = 4\n",
      "llm_load_print_meta: n_embd_k_gqa     = 1024\n",
      "llm_load_print_meta: n_embd_v_gqa     = 1024\n",
      "llm_load_print_meta: f_norm_eps       = 0.0e+00\n",
      "llm_load_print_meta: f_norm_rms_eps   = 1.0e-05\n",
      "llm_load_print_meta: f_clamp_kqv      = 0.0e+00\n",
      "llm_load_print_meta: f_max_alibi_bias = 0.0e+00\n",
      "llm_load_print_meta: f_logit_scale    = 0.0e+00\n",
      "llm_load_print_meta: n_ff             = 14336\n",
      "llm_load_print_meta: n_expert         = 0\n",
      "llm_load_print_meta: n_expert_used    = 0\n",
      "llm_load_print_meta: causal attn      = 1\n",
      "llm_load_print_meta: pooling type     = 0\n",
      "llm_load_print_meta: rope type        = 0\n",
      "llm_load_print_meta: rope scaling     = linear\n",
      "llm_load_print_meta: freq_base_train  = 500000.0\n",
      "llm_load_print_meta: freq_scale_train = 1\n",
      "llm_load_print_meta: n_ctx_orig_yarn  = 8192\n",
      "llm_load_print_meta: rope_finetuned   = unknown\n",
      "llm_load_print_meta: ssm_d_conv       = 0\n",
      "llm_load_print_meta: ssm_d_inner      = 0\n",
      "llm_load_print_meta: ssm_d_state      = 0\n",
      "llm_load_print_meta: ssm_dt_rank      = 0\n",
      "llm_load_print_meta: model type       = 8B\n",
      "llm_load_print_meta: model ftype      = Q8_0\n",
      "llm_load_print_meta: model params     = 8.03 B\n",
      "llm_load_print_meta: model size       = 7.95 GiB (8.50 BPW) \n",
      "llm_load_print_meta: general.name     = Hermes-2-Pro-Llama-3-8B\n",
      "llm_load_print_meta: BOS token        = 128000 '<|begin_of_text|>'\n",
      "llm_load_print_meta: EOS token        = 128003 '<|im_end|>'\n",
      "llm_load_print_meta: PAD token        = 128001 '<|end_of_text|>'\n",
      "llm_load_print_meta: LF token         = 128 'Ä'\n",
      "llm_load_print_meta: EOT token        = 128003 '<|im_end|>'\n",
      "llm_load_tensors: ggml ctx size =    0.30 MiB\n",
      "ggml_backend_metal_log_allocated_size: allocated buffer, size =  5174.12 MiB, (11810.95 / 49152.00)\n",
      "llm_load_tensors: offloading 20 repeating layers to GPU\n",
      "llm_load_tensors: offloaded 20/33 layers to GPU\n",
      "llm_load_tensors:        CPU buffer size =  8137.91 MiB\n",
      "llm_load_tensors:      Metal buffer size =  5174.11 MiB\n",
      ".........................................................................................\n",
      "llama_new_context_with_model: n_ctx      = 10016\n",
      "llama_new_context_with_model: n_batch    = 850\n",
      "llama_new_context_with_model: n_ubatch   = 512\n",
      "llama_new_context_with_model: flash_attn = 0\n",
      "llama_new_context_with_model: freq_base  = 10000.0\n",
      "llama_new_context_with_model: freq_scale = 1\n",
      "ggml_metal_init: allocating\n",
      "ggml_metal_init: found device: Apple M1 Max\n",
      "ggml_metal_init: picking default device: Apple M1 Max\n",
      "ggml_metal_init: using embedded metal library\n",
      "ggml_metal_init: GPU name:   Apple M1 Max\n",
      "ggml_metal_init: GPU family: MTLGPUFamilyApple7  (1007)\n",
      "ggml_metal_init: GPU family: MTLGPUFamilyCommon3 (3003)\n",
      "ggml_metal_init: GPU family: MTLGPUFamilyMetal3  (5001)\n",
      "ggml_metal_init: simdgroup reduction support   = true\n",
      "ggml_metal_init: simdgroup matrix mul. support = true\n",
      "ggml_metal_init: hasUnifiedMemory              = true\n",
      "ggml_metal_init: recommendedMaxWorkingSetSize  = 51539.61 MB\n",
      "llama_kv_cache_init:        CPU KV buffer size =   469.50 MiB\n",
      "llama_kv_cache_init:      Metal KV buffer size =   782.50 MiB\n",
      "llama_new_context_with_model: KV self size  = 1252.00 MiB, K (f16):  626.00 MiB, V (f16):  626.00 MiB\n",
      "llama_new_context_with_model:        CPU  output buffer size =     0.49 MiB\n",
      "llama_new_context_with_model:      Metal compute buffer size =   677.57 MiB\n",
      "llama_new_context_with_model:        CPU compute buffer size =   677.57 MiB\n",
      "llama_new_context_with_model: graph nodes  = 1030\n",
      "llama_new_context_with_model: graph splits = 195\n",
      "AVX = 0 | AVX_VNNI = 0 | AVX2 = 0 | AVX512 = 0 | AVX512_VBMI = 0 | AVX512_VNNI = 0 | AVX512_BF16 = 0 | FMA = 0 | NEON = 1 | SVE = 0 | ARM_FMA = 1 | F16C = 0 | FP16_VA = 1 | WASM_SIMD = 0 | BLAS = 1 | SSE3 = 0 | SSSE3 = 0 | VSX = 0 | MATMUL_INT8 = 0 | LLAMAFILE = 1 | \n",
      "Model metadata: {'general.quantization_version': '2', 'tokenizer.chat_template': \"{{bos_token}}{% for message in messages %}{{'<|im_start|>' + message['role'] + '\\n' + message['content'] + '<|im_end|>' + '\\n'}}{% endfor %}{% if add_generation_prompt %}{{ '<|im_start|>assistant\\n' }}{% endif %}\", 'tokenizer.ggml.padding_token_id': '128001', 'tokenizer.ggml.eos_token_id': '128003', 'tokenizer.ggml.bos_token_id': '128000', 'tokenizer.ggml.pre': 'llama-bpe', 'tokenizer.ggml.model': 'gpt2', 'llama.vocab_size': '128288', 'llama.attention.head_count_kv': '8', 'llama.context_length': '8192', 'llama.attention.head_count': '32', 'general.file_type': '7', 'llama.feed_forward_length': '14336', 'llama.rope.dimension_count': '128', 'llama.rope.freq_base': '500000.000000', 'llama.embedding_length': '4096', 'general.architecture': 'llama', 'llama.attention.layer_norm_rms_epsilon': '0.000010', 'general.name': 'Hermes-2-Pro-Llama-3-8B', 'llama.block_count': '32'}\n",
      "Available chat formats from metadata: chat_template.default\n",
      "ggml_metal_free: deallocating\n"
     ]
    }
   ],
   "source": [
    "import multiprocessing\n",
    "from langchain.callbacks.manager import CallbackManager\n",
    "from langchain.callbacks.streaming_stdout import StreamingStdOutCallbackHandler\n",
    "from langchain_community.chat_models import ChatLlamaCpp\n",
    "from llamacpp_function_calling.chat_format import hermes_pro_function_calling\n",
    "\n",
    "\n",
    "model = ChatLlamaCpp(\n",
    "    temperature = 0.5,\n",
    "    model_path = \"/Users/thanhnguyen/Documents/Developer/llamacpp_function_calling/models/Hermes-2-Pro-Llama-3-8B-Q8_0.gguf\",\n",
    "    n_ctx = 10000,\n",
    "    n_gpu_layers = 20,\n",
    "    n_batch = 850,  # Should be between 1 and n_ctx, consider the amount of VRAM in your GPU.\n",
    "    n_threads = multiprocessing.cpu_count()-5,\n",
    "    # callback_manager = CallbackManager([StreamingStdOutCallbackHandler()]),# Callbacks support token-wise streaming\n",
    "    max_tokens = 512,\n",
    "    verbose= True,\n",
    "    chat_handler=hermes_pro_function_calling\n",
    ")"
   ]
  },
  {
   "cell_type": "code",
   "execution_count": 28,
   "metadata": {},
   "outputs": [],
   "source": [
    "model = model.bind_tools(tools=[search, get_weather],\n",
    "                         tool_choice='auto')\n",
    "                         "
   ]
  },
  {
   "cell_type": "code",
   "execution_count": 30,
   "metadata": {},
   "outputs": [],
   "source": [
    "import operator\n",
    "from typing import Annotated, Sequence, TypedDict\n",
    "\n",
    "from langchain_core.messages import BaseMessage\n",
    "\n",
    "\n",
    "class AgentState(TypedDict):\n",
    "    messages: Annotated[Sequence[BaseMessage], operator.add]"
   ]
  },
  {
   "cell_type": "code",
   "execution_count": 31,
   "metadata": {},
   "outputs": [],
   "source": [
    "from langchain_core.messages import ToolMessage\n",
    "\n",
    "from langgraph.prebuilt import ToolInvocation\n",
    "\n",
    "\n",
    "# Define the function that determines whether to continue or not\n",
    "def should_continue(state):\n",
    "    messages = state[\"messages\"]\n",
    "    last_message = messages[-1]\n",
    "    # If there is no function call, then we finish\n",
    "    if not last_message.tool_calls:\n",
    "        return \"end\"\n",
    "    # Otherwise if there is, we continue\n",
    "    else:\n",
    "        return \"continue\"\n",
    "\n",
    "\n",
    "# Define the function that calls the model\n",
    "def call_model(state):\n",
    "    messages = state[\"messages\"]\n",
    "    response = model.invoke(messages)\n",
    "    # We return a list, because this will get added to the existing list\n",
    "    return {\"messages\": [response]}\n",
    "\n",
    "\n",
    "# Define the function to execute tools\n",
    "def call_tool(state):\n",
    "    messages = state[\"messages\"]\n",
    "    # Based on the continue condition\n",
    "    # we know the last message involves a function call\n",
    "    last_message = messages[-1]\n",
    "    # We construct an ToolInvocation from the function_call\n",
    "    tool_call = last_message.tool_calls[0]\n",
    "    action = ToolInvocation(\n",
    "        tool=tool_call[\"name\"],\n",
    "        tool_input=tool_call[\"args\"],\n",
    "    )\n",
    "    # We call the tool_executor and get back a response\n",
    "    response = tool_executor.invoke(action)\n",
    "    # We use the response to create a FunctionMessage\n",
    "    function_message = ToolMessage(\n",
    "        content=str(response), name=action.tool, tool_call_id=tool_call[\"id\"]\n",
    "    )\n",
    "    # We return a list, because this will get added to the existing list\n",
    "    return {\"messages\": [function_message]}"
   ]
  },
  {
   "cell_type": "code",
   "execution_count": 32,
   "metadata": {},
   "outputs": [],
   "source": [
    "from langgraph.graph import END, StateGraph, START\n",
    "\n",
    "# Define a new graph\n",
    "workflow = StateGraph(AgentState)\n",
    "\n",
    "# Define the two nodes we will cycle between\n",
    "workflow.add_node(\"agent\", call_model)\n",
    "workflow.add_node(\"action\", call_tool)\n",
    "\n",
    "# Set the entrypoint as `agent`\n",
    "# This means that this node is the first one called\n",
    "workflow.add_edge(START, \"agent\")\n",
    "\n",
    "# We now add a conditional edge\n",
    "workflow.add_conditional_edges(\n",
    "    # First, we define the start node. We use `agent`.\n",
    "    # This means these are the edges taken after the `agent` node is called.\n",
    "    \"agent\",\n",
    "    # Next, we pass in the function that will determine which node is called next.\n",
    "    should_continue,\n",
    "    # Finally we pass in a mapping.\n",
    "    # The keys are strings, and the values are other nodes.\n",
    "    # END is a special node marking that the graph should finish.\n",
    "    # What will happen is we will call `should_continue`, and then the output of that\n",
    "    # will be matched against the keys in this mapping.\n",
    "    # Based on which one it matches, that node will then be called.\n",
    "    {\n",
    "        # If `tools`, then we call the tool node.\n",
    "        \"continue\": \"action\",\n",
    "        # Otherwise we finish.\n",
    "        \"end\": END,\n",
    "    },\n",
    ")\n",
    "\n",
    "# We now add a normal edge from `tools` to `agent`.\n",
    "# This means that after `tools` is called, `agent` node is called next.\n",
    "workflow.add_edge(\"action\", \"agent\")\n",
    "\n",
    "# Finally, we compile it!\n",
    "# This compiles it into a LangChain Runnable,\n",
    "# meaning you can use it as you would any other runnable\n",
    "app = workflow.compile()"
   ]
  },
  {
   "cell_type": "code",
   "execution_count": 33,
   "metadata": {},
   "outputs": [
    {
     "data": {
      "image/jpeg": "[encoded data removed]",
      "text/plain": [
       "<IPython.core.display.Image object>"
      ]
     },
     "metadata": {},
     "output_type": "display_data"
    }
   ],
   "source": [
    "from IPython.display import Image, display\n",
    "\n",
    "try:\n",
    "    display(Image(app.get_graph(xray=True).draw_mermaid_png()))\n",
    "except Exception:\n",
    "    # This requires some extra dependencies and is optional\n",
    "    pass"
   ]
  },
  {
   "cell_type": "code",
   "execution_count": 34,
   "metadata": {},
   "outputs": [
    {
     "name": "stderr",
     "output_type": "stream",
     "text": [
      "/opt/anaconda3/envs/agent1/lib/python3.10/site-packages/llama_cpp/llama.py:1054: RuntimeWarning: Detected duplicate leading \"<|begin_of_text|>\" in prompt, this will likely reduce response quality, consider removing it...\n",
      "  warnings.warn(\n",
      "Llama.generate: prefix-match hit\n",
      "\n",
      "llama_print_timings:        load time =    2222.61 ms\n",
      "llama_print_timings:      sample time =      14.71 ms /    22 runs   (    0.67 ms per token,  1495.58 tokens per second)\n",
      "llama_print_timings: prompt eval time =     195.03 ms /     9 tokens (   21.67 ms per token,    46.15 tokens per second)\n",
      "llama_print_timings:        eval time =    1137.54 ms /    21 runs   (   54.17 ms per token,    18.46 tokens per second)\n",
      "llama_print_timings:       total time =    1357.38 ms /    30 tokens\n"
     ]
    },
    {
     "data": {
      "text/plain": [
       "{'messages': [HumanMessage(content='hello, who are you'),\n",
       "  AIMessage(content='\\nI am an AI language model designed to assist with various tasks. How may I help you today?', response_metadata={'token_usage': {'prompt_tokens': 349, 'completion_tokens': 21, 'total_tokens': 370}, 'finish_reason': 'stop', 'logprobs': None}, id='run-66abe59b-a677-4202-853e-f833d68ebf4c-0')]}"
      ]
     },
     "execution_count": 34,
     "metadata": {},
     "output_type": "execute_result"
    }
   ],
   "source": [
    "from langchain_core.messages import HumanMessage\n",
    "\n",
    "inputs = {\"messages\": [HumanMessage(content=\"hello, who are you\")]}\n",
    "app.invoke(inputs)"
   ]
  },
  {
   "cell_type": "code",
   "execution_count": 35,
   "metadata": {},
   "outputs": [
    {
     "name": "stderr",
     "output_type": "stream",
     "text": [
      "/opt/anaconda3/envs/agent1/lib/python3.10/site-packages/llama_cpp/llama.py:1054: RuntimeWarning: Detected duplicate leading \"<|begin_of_text|>\" in prompt, this will likely reduce response quality, consider removing it...\n",
      "  warnings.warn(\n",
      "Llama.generate: prefix-match hit\n",
      "\n",
      "llama_print_timings:        load time =    2222.61 ms\n",
      "llama_print_timings:      sample time =      21.50 ms /    30 runs   (    0.72 ms per token,  1395.35 tokens per second)\n",
      "llama_print_timings: prompt eval time =     242.96 ms /    14 tokens (   17.35 ms per token,    57.62 tokens per second)\n",
      "llama_print_timings:        eval time =    1574.27 ms /    29 runs   (   54.29 ms per token,    18.42 tokens per second)\n",
      "llama_print_timings:       total time =    1852.19 ms /    43 tokens\n",
      "/opt/anaconda3/envs/agent1/lib/python3.10/site-packages/llama_cpp/llama.py:1054: RuntimeWarning: Detected duplicate leading \"<|begin_of_text|>\" in prompt, this will likely reduce response quality, consider removing it...\n",
      "  warnings.warn(\n",
      "Llama.generate: prefix-match hit\n"
     ]
    },
    {
     "name": "stdout",
     "output_type": "stream",
     "text": [
      "[{'name': 'get_current_weather', 'args': {'location': 'HCM', 'unit': 'celsius'}, 'id': 'call__0_get_current_weather_cmpl-b260feef-bf26-4991-8d56-9286acfe3d66'}]\n"
     ]
    },
    {
     "name": "stderr",
     "output_type": "stream",
     "text": [
      "\n",
      "llama_print_timings:        load time =    2222.61 ms\n",
      "llama_print_timings:      sample time =      14.45 ms /    20 runs   (    0.72 ms per token,  1384.18 tokens per second)\n",
      "llama_print_timings: prompt eval time =     337.03 ms /    26 tokens (   12.96 ms per token,    77.14 tokens per second)\n",
      "llama_print_timings:        eval time =    1039.03 ms /    19 runs   (   54.69 ms per token,    18.29 tokens per second)\n",
      "llama_print_timings:       total time =    1400.27 ms /    45 tokens\n"
     ]
    },
    {
     "data": {
      "text/plain": [
       "{'messages': [HumanMessage(content='what is the weather in hcm in celsius'),\n",
       "  AIMessage(content='', additional_kwargs={'tool_calls': [{'id': 'call__0_get_current_weather_cmpl-b260feef-bf26-4991-8d56-9286acfe3d66', 'type': 'function', 'function': {'name': 'get_current_weather', 'arguments': '{\"location\": \"HCM\", \"unit\": \"celsius\"}'}}]}, response_metadata={'token_usage': {'completion_tokens': 29, 'prompt_tokens': 354, 'total_tokens': 383}, 'finish_reason': 'tool_calls', 'logprobs': None}, id='run-649dc744-dcde-46b3-9f16-f51cd362726f-0', tool_calls=[{'name': 'get_current_weather', 'args': {'location': 'HCM', 'unit': 'celsius'}, 'id': 'call__0_get_current_weather_cmpl-b260feef-bf26-4991-8d56-9286acfe3d66'}]),\n",
       "  ToolMessage(content='Now the weather in HCM is 22 celsius', name='get_current_weather', tool_call_id='call__0_get_current_weather_cmpl-b260feef-bf26-4991-8d56-9286acfe3d66'),\n",
       "  AIMessage(content='\\nThe current temperature in Ho Chi Minh City (HCM) is 22 degrees Celsius.', response_metadata={'token_usage': {'prompt_tokens': 381, 'completion_tokens': 19, 'total_tokens': 400}, 'finish_reason': 'stop', 'logprobs': None}, id='run-bd105b86-5c97-4d1e-b8c6-2611546f6027-0')]}"
      ]
     },
     "execution_count": 35,
     "metadata": {},
     "output_type": "execute_result"
    }
   ],
   "source": [
    "inputs = {\"messages\": [HumanMessage(content=\"what is the weather in hcm in celsius\")]}\n",
    "app.invoke(inputs)"
   ]
  },
  {
   "cell_type": "code",
   "execution_count": 36,
   "metadata": {},
   "outputs": [
    {
     "name": "stderr",
     "output_type": "stream",
     "text": [
      "/opt/anaconda3/envs/agent1/lib/python3.10/site-packages/llama_cpp/llama.py:1054: RuntimeWarning: Detected duplicate leading \"<|begin_of_text|>\" in prompt, this will likely reduce response quality, consider removing it...\n",
      "  warnings.warn(\n",
      "Llama.generate: prefix-match hit\n",
      "\n",
      "llama_print_timings:        load time =    2222.61 ms\n",
      "llama_print_timings:      sample time =      20.23 ms /    28 runs   (    0.72 ms per token,  1384.29 tokens per second)\n",
      "llama_print_timings: prompt eval time =     247.31 ms /    14 tokens (   17.67 ms per token,    56.61 tokens per second)\n",
      "llama_print_timings:        eval time =    1466.68 ms /    27 runs   (   54.32 ms per token,    18.41 tokens per second)\n",
      "llama_print_timings:       total time =    1746.45 ms /    41 tokens\n"
     ]
    },
    {
     "name": "stdout",
     "output_type": "stream",
     "text": [
      "[{'name': 'search_online', 'args': {'query': 'NBA Finals winner in 2024'}, 'id': 'call__0_search_online_cmpl-657aaaf4-178e-486d-99f6-2fb17295ce3f'}]\n"
     ]
    },
    {
     "name": "stderr",
     "output_type": "stream",
     "text": [
      "/opt/anaconda3/envs/agent1/lib/python3.10/site-packages/llama_cpp/llama.py:1054: RuntimeWarning: Detected duplicate leading \"<|begin_of_text|>\" in prompt, this will likely reduce response quality, consider removing it...\n",
      "  warnings.warn(\n",
      "Llama.generate: prefix-match hit\n",
      "\n",
      "llama_print_timings:        load time =    2222.61 ms\n",
      "llama_print_timings:      sample time =      44.76 ms /    67 runs   (    0.67 ms per token,  1496.87 tokens per second)\n",
      "llama_print_timings: prompt eval time =    1152.42 ms /   113 tokens (   10.20 ms per token,    98.05 tokens per second)\n",
      "llama_print_timings:        eval time =    3634.31 ms /    66 runs   (   55.07 ms per token,    18.16 tokens per second)\n",
      "llama_print_timings:       total time =    4868.41 ms /   179 tokens\n"
     ]
    },
    {
     "data": {
      "text/plain": [
       "{'messages': [HumanMessage(content='which team won final nba 2024 ?'),\n",
       "  AIMessage(content='', additional_kwargs={'tool_calls': [{'id': 'call__0_search_online_cmpl-657aaaf4-178e-486d-99f6-2fb17295ce3f', 'type': 'function', 'function': {'name': 'search_online', 'arguments': '{\"query\": \"NBA Finals winner in 2024\"}'}}]}, response_metadata={'token_usage': {'completion_tokens': 27, 'prompt_tokens': 354, 'total_tokens': 381}, 'finish_reason': 'tool_calls', 'logprobs': None}, id='run-9d255a96-67e5-4fe9-ad65-7ceeb361585c-0', tool_calls=[{'name': 'search_online', 'args': {'query': 'NBA Finals winner in 2024'}, 'id': 'call__0_search_online_cmpl-657aaaf4-178e-486d-99f6-2fb17295ce3f'}]),\n",
       "  ToolMessage(content=\"1. Celtics' Brown named 2024 Finals MVP. Brown averages 20.8 points, 5.4 rebounds and 5.0 assists with quality defense in the NBA Finals presented by YouTube TV.Schedule · Latest Finals News · 2024 NBA Playoffs Bracket · NBA Season Recaps\\n\\n2. The Celtics defeated the Mavericks four games to one, winning their first championship since 2008 and 18th overall, making them the NBA franchise with the most\\xa0...\", name='search_online', tool_call_id='call__0_search_online_cmpl-657aaaf4-178e-486d-99f6-2fb17295ce3f'),\n",
       "  AIMessage(content=\"\\nThe Boston Celtics won the final NBA game of the 2024 season. They defeated the Dallas Mavericks in a four-game sweep, securing their 18th NBA championship title and their first since 2008. The Celtics' Jaylen Brown was named the 2024 NBA Finals MVP for his outstanding performance throughout the series.\", response_metadata={'token_usage': {'prompt_tokens': 468, 'completion_tokens': 66, 'total_tokens': 534}, 'finish_reason': 'stop', 'logprobs': None}, id='run-b6729cb0-6306-44ee-9a60-93fc1a395eb5-0')]}"
      ]
     },
     "execution_count": 36,
     "metadata": {},
     "output_type": "execute_result"
    }
   ],
   "source": [
    "inputs = {\"messages\": [HumanMessage(content=\"which team won final nba 2024 ?\")]}\n",
    "app.invoke(inputs)"
   ]
  }
 ],
 "metadata": {
  "kernelspec": {
   "display_name": "agent1",
   "language": "python",
   "name": "python3"
  },
  "language_info": {
   "codemirror_mode": {
    "name": "ipython",
    "version": 3
   },
   "file_extension": ".py",
   "mimetype": "text/x-python",
   "name": "python",
   "nbconvert_exporter": "python",
   "pygments_lexer": "ipython3",
   "version": "3.10.14"
  }
 },
 "nbformat": 4,
 "nbformat_minor": 2
}
